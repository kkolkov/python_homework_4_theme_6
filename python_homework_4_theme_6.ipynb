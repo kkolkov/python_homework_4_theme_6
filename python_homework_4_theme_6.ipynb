{
 "cells": [
  {
   "cell_type": "code",
   "id": "d76ccfd0-819a-4985-aaaf-1c57b9f41273",
   "metadata": {
    "ExecuteTime": {
     "end_time": "2025-10-25T07:02:06.531284Z",
     "start_time": "2025-10-25T07:02:06.528250Z"
    }
   },
   "source": [
    "from pydantic import BaseModel, EmailStr, Field, validator\n",
    "from typing import List, Optional"
   ],
   "outputs": [],
   "execution_count": 32
  },
  {
   "cell_type": "markdown",
   "id": "60ee97ab-cd77-4838-b5c8-695ada6c8632",
   "metadata": {},
   "source": [
    "Задача 1. Базовые модели \n",
    "Создайте следующие Pydantic-модели: \n",
    "Book \n",
    "– title: str \n",
    "– author: str \n",
    "– year: int \n",
    "– available: bool \n",
    "User \n",
    "– name: str \n",
    "– email: str (с валидацией email) \n",
    "– membership_id: str"
   ]
  },
  {
   "cell_type": "code",
   "id": "c080ed8d-380a-40e8-a1f6-7626e4333e63",
   "metadata": {
    "ExecuteTime": {
     "end_time": "2025-10-25T07:02:06.550941Z",
     "start_time": "2025-10-25T07:02:06.544654Z"
    }
   },
   "source": [
    "from pydantic import field_validator\n",
    "\n",
    "\n",
    "class Book(BaseModel):\n",
    "    title: str\n",
    "    author: str\n",
    "    year: int\n",
    "    available: bool = True\n",
    "    categories: List[str] = Field(default_factory=list)\n",
    "\n",
    "    @field_validator('categories')\n",
    "    def validate_categories(cls, value):\n",
    "        if not value:\n",
    "            raise ValueError(\"У книги должна быть хотя бы одна категория\")\n",
    "        return value\n",
    "\n",
    "\n",
    "class User(BaseModel):\n",
    "    name: str\n",
    "    email: EmailStr\n",
    "    membership_id: str"
   ],
   "outputs": [],
   "execution_count": 33
  },
  {
   "cell_type": "markdown",
   "id": "60296f88-9423-4fe3-979b-0c13d1ec99c5",
   "metadata": {},
   "source": [
    "Задача 2. Функции с аннотациями типов \n",
    "Напишите следующие функции, используя аннотации типов:\n",
    "add_book(...) -> ...\n",
    "find_book(...) -> ...\n",
    "is_book_borrow(...) -> ...\n",
    "return_book(...) -> ..."
   ]
  },
  {
   "cell_type": "code",
   "id": "2e4e6e60-bb08-4a3f-900e-9442d9d417d0",
   "metadata": {
    "ExecuteTime": {
     "end_time": "2025-10-25T07:02:06.558085Z",
     "start_time": "2025-10-25T07:02:06.554839Z"
    }
   },
   "source": [
    "def add_book(books: List[Book], book: Book) -> List[Book]:\n",
    "    \"\"\"Добавляет книгу в список библиотеки\"\"\"\n",
    "    books.append(book)\n",
    "    return books\n",
    "\n",
    "\n",
    "def find_book(books: List[Book], title: str) -> Optional[Book]:\n",
    "    \"\"\"Ищет книгу по названию\"\"\"\n",
    "    for book in books:\n",
    "        if book.title.lower() == title.lower():\n",
    "            return book\n",
    "    return None\n",
    "\n",
    "\n",
    "def is_book_borrow(book: Book) -> bool:\n",
    "    \"\"\"Проверяет, доступна ли книга для выдачи\"\"\"\n",
    "    if not book.available:\n",
    "        raise BookNotAvailable(f\"Книга '{book.title}' недоступна для выдачи\")\n",
    "    book.available = False\n",
    "    return True\n",
    "\n",
    "\n",
    "def return_book(book: Book) -> bool:\n",
    "    \"\"\"Возвращает книгу в библиотеку\"\"\"\n",
    "    book.available = True\n",
    "    return True\n"
   ],
   "outputs": [],
   "execution_count": 34
  },
  {
   "cell_type": "markdown",
   "id": "07a9aaa7-03ef-4ed8-a03e-c858abe225b6",
   "metadata": {},
   "source": [
    "Задача 3. Расширенная модель и валидация\n",
    "Создайте модель Library: \n",
    "– books: … \n",
    "– users: …\n",
    "Добавьте в модель Book поле categories: List[str] с валидацией.\n",
    "Реализуйте метод total_books() -> ... для модели Library."
   ]
  },
  {
   "cell_type": "code",
   "id": "68ead907-9b1d-4cf1-97a4-88ed7a092c65",
   "metadata": {
    "ExecuteTime": {
     "end_time": "2025-10-25T07:02:06.566619Z",
     "start_time": "2025-10-25T07:02:06.563865Z"
    }
   },
   "source": [
    "class Library(BaseModel):\n",
    "    books: List[Book] = Field(default_factory=list)\n",
    "    users: List[User] = Field(default_factory=list)\n",
    "\n",
    "    def total_books(self) -> int:\n",
    "        \"\"\"Возвращает общее количество книг в библиотеке\"\"\"\n",
    "        return len(self.books)\n"
   ],
   "outputs": [],
   "execution_count": 35
  },
  {
   "cell_type": "code",
   "id": "27b926a1-90af-4853-926f-526f15c12211",
   "metadata": {
    "ExecuteTime": {
     "end_time": "2025-10-25T07:02:06.571562Z",
     "start_time": "2025-10-25T07:02:06.570067Z"
    }
   },
   "source": [
    "class BookNotAvailable(Exception):\n",
    "    \"\"\"Исключение при попытке взять недоступную книгу\"\"\"\n",
    "    pass\n"
   ],
   "outputs": [],
   "execution_count": 36
  },
  {
   "cell_type": "code",
   "id": "7a03b748-ed1d-4491-98b5-41a0c95ec9ce",
   "metadata": {
    "ExecuteTime": {
     "end_time": "2025-10-25T07:02:06.578752Z",
     "start_time": "2025-10-25T07:02:06.575475Z"
    }
   },
   "source": [
    "# Пример данных\n",
    "book1 = Book(title=\"1984\", author=\"Джордж Оруэлл\", year=1949, available=True, categories=[\"Роман\", \"Антиутопия\"])\n",
    "book2 = Book(title=\"Война и мир\", author=\"Лев Толстой\", year=1869, available=True, categories=[\"Классика\"])\n",
    "\n",
    "user1 = User(name=\"Даниил\", email=\"danil@example.com\", membership_id=\"U001\")\n",
    "\n",
    "library = Library(books=[book1, book2], users=[user1])\n",
    "\n",
    "print(\"Всего книг в библиотеке:\", library.total_books())\n",
    "\n",
    "# Поиск книги\n",
    "found = find_book(library.books, \"1984\")\n",
    "print(\"Найдена книга:\", found.title if found else \"не найдена\")\n",
    "\n",
    "# Выдача книги\n",
    "try:\n",
    "    is_book_borrow(found)\n",
    "    print(f\"Книга '{found.title}' выдана.\")\n",
    "except BookNotAvailable as e:\n",
    "    print(\"Ошибка:\", e)\n",
    "\n",
    "# Попытка выдать снова\n",
    "try:\n",
    "    is_book_borrow(found)\n",
    "except BookNotAvailable as e:\n",
    "    print(\"Ошибка:\", e)\n",
    "\n",
    "# Возврат книги\n",
    "return_book(found)\n",
    "print(f\"Книга '{found.title}' возвращена. Доступна:\", found.available)\n"
   ],
   "outputs": [
    {
     "name": "stdout",
     "output_type": "stream",
     "text": [
      "Всего книг в библиотеке: 2\n",
      "Найдена книга: 1984\n",
      "Книга '1984' выдана.\n",
      "Ошибка: Книга '1984' недоступна для выдачи\n",
      "Книга '1984' возвращена. Доступна: True\n"
     ]
    }
   ],
   "execution_count": 37
  },
  {
   "cell_type": "code",
   "id": "ad6c2203-93fd-4482-b593-24ab40a0c596",
   "metadata": {
    "ExecuteTime": {
     "end_time": "2025-10-25T07:02:06.588858Z",
     "start_time": "2025-10-25T07:02:06.587568Z"
    }
   },
   "source": [],
   "outputs": [],
   "execution_count": null
  }
 ],
 "metadata": {
  "kernelspec": {
   "display_name": "Python 3 (ipykernel)",
   "language": "python",
   "name": "python3"
  },
  "language_info": {
   "codemirror_mode": {
    "name": "ipython",
    "version": 3
   },
   "file_extension": ".py",
   "mimetype": "text/x-python",
   "name": "python",
   "nbconvert_exporter": "python",
   "pygments_lexer": "ipython3",
   "version": "3.13.6"
  }
 },
 "nbformat": 4,
 "nbformat_minor": 5
}
